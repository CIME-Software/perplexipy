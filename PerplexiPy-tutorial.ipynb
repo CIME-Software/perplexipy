{
 "cells": [
  {
   "cell_type": "markdown",
   "id": "7e58bc73-b426-4990-9309-fcfd188d74cb",
   "metadata": {},
   "source": [
    "# PerplexiPy Tutorial"
   ]
  },
  {
   "cell_type": "markdown",
   "id": "302d06f0-568d-410f-a7f3-548076881e90",
   "metadata": {},
   "source": [
    "---\n",
    "## API Key\n",
    "\n",
    "Get an API Key from the <a href='https://perplexity.ai' target='_blank'>Perplexity AI</a> website.  It requires you to have a paid account.\n",
    "\n",
    "You may set the API key in the environment or in a `.env` file, whatever makes sense for you or your organization to manage secrets.  For purposes of this tutorial, we'll set it up as a symbolic constant.  Run this code:"
   ]
  },
  {
   "cell_type": "code",
   "execution_count": null,
   "id": "3d316784-d1f3-4231-adc9-17417bf393b1",
   "metadata": {},
   "outputs": [],
   "source": [
    "from perplexipy import PERPLEXITY_API_PREFIX\n",
    "\n",
    "myAPIKey = PERPLEXITY_API_PREFIX+'3a45' # bogus value"
   ]
  },
  {
   "cell_type": "markdown",
   "id": "e84a8d17-d07d-4a43-aa66-e3007404d493",
   "metadata": {},
   "source": [
    "Now let's try to instantiate the client:"
   ]
  },
  {
   "cell_type": "code",
   "execution_count": null,
   "id": "df86aec4-492d-46c1-b840-8e63d3e081b2",
   "metadata": {},
   "outputs": [],
   "source": [
    "from perplexipy import PerplexityClient\n",
    "\n",
    "client = PerplexityClient(key = myAPIKey)\n",
    "try:\n",
    "    client.query('This query will fail and throw an exception')\n",
    "except Exception as e:\n",
    "    print('Oh, no!  %s' % str(e))"
   ]
  },
  {
   "cell_type": "markdown",
   "id": "7bb1424b-ddd6-41b6-b2fd-8c79def05a63",
   "metadata": {},
   "source": [
    "---\n",
    "## Simple query\n",
    "\n",
    "Set your actual API key here, then run the code:"
   ]
  },
  {
   "cell_type": "code",
   "execution_count": null,
   "id": "5eae9c8d-8277-42e6-9dd4-cb5179689e93",
   "metadata": {},
   "outputs": [],
   "source": [
    "#\n",
    "# *** Assign your real API key here!\n",
    "#\n",
    "myAPIKey = ''"
   ]
  },
  {
   "cell_type": "code",
   "execution_count": null,
   "id": "0372b6cb-c344-4550-9745-6b476b7c3332",
   "metadata": {},
   "outputs": [],
   "source": [
    "client = PerplexityClient(key = myAPIKey)\n",
    "try:\n",
    "    result = client.query('Provide a brief answer to:  what is a query?')\n",
    "except Exception as e:\n",
    "    print('Oh, no!  %s' % str(e))\n",
    "\n",
    "display(result)"
   ]
  },
  {
   "cell_type": "markdown",
   "id": "be79c3c1-1ba1-40e8-bc7d-579d4873b09b",
   "metadata": {},
   "source": [
    "---\n",
    "## Streaming API\n",
    "\n",
    "Let's run a long query and emulate the \"natural flow of conversation\" that the streaming API provides:"
   ]
  },
  {
   "cell_type": "code",
   "execution_count": null,
   "id": "08d88c3d-3a18-42ba-9b4d-ddfef9031160",
   "metadata": {},
   "outputs": [],
   "source": [
    "results = client.queryStreamable('Show me a comprehensive list of Jedi Knights including their planet of origin.')\n",
    "\n",
    "output = ''\n",
    "for result in results:\n",
    "    output += result\n",
    "    if '\\n' in result:\n",
    "        display('%s' % output)\n",
    "        output = ''"
   ]
  },
  {
   "cell_type": "markdown",
   "id": "8c2e6b28-95a4-4c2f-8965-ff59914e6ce8",
   "metadata": {},
   "source": [
    "---\n",
    "## Changing the which model to use\n",
    "\n",
    "Not all models will result in the same output; each has different training and audience focus.  Let's find out what the current model was used for the previous, then change it to a different model and run the query again."
   ]
  },
  {
   "cell_type": "code",
   "execution_count": null,
   "id": "f03a9637-a352-459f-8528-100456f8fe3d",
   "metadata": {},
   "outputs": [],
   "source": [
    "import pandas as pd\n",
    "from IPython.display import Markdown\n",
    "\n",
    "display(pd.DataFrame(client.models))"
   ]
  },
  {
   "cell_type": "markdown",
   "id": "6c43e705-9268-4a55-aef2-d085e2772a85",
   "metadata": {},
   "source": [
    "Models only:"
   ]
  },
  {
   "cell_type": "code",
   "execution_count": null,
   "id": "ed3d7dd5-0443-4dcd-b78a-db37cf4fbd65",
   "metadata": {},
   "outputs": [],
   "source": [
    "for model in client.models.keys():\n",
    "    display(Markdown('- %s' % model))\n",
    "\n",
    "display(Markdown('And the active model is: %s' % client.model))"
   ]
  },
  {
   "cell_type": "code",
   "execution_count": null,
   "id": "a98f1838-8b8b-4f24-9a3f-ced1a7ea76bf",
   "metadata": {},
   "outputs": [],
   "source": [
    "client.model = 'sonar-small-chat'\n",
    "results = client.queryStreamable('Show me a comprehensive list of Jedi Knights including their planet of origin.')\n",
    "\n",
    "output = ''\n",
    "for result in results:\n",
    "    output += result\n",
    "    if '\\n' in result:\n",
    "        display('%s' % output)\n",
    "        output = ''"
   ]
  },
  {
   "cell_type": "markdown",
   "id": "2ed660b6-7bae-4c1a-ac8a-1b1dec18e56e",
   "metadata": {},
   "source": [
    "The last query may work better in a batch reply:"
   ]
  },
  {
   "cell_type": "code",
   "execution_count": null,
   "id": "387aaecf-9cab-4289-82ce-469eb3db9cf5",
   "metadata": {},
   "outputs": [],
   "source": [
    "results = client.query('Show me a comprehensive list of Jedi Knights including their planet of origin.')\n",
    "\n",
    "output = ''\n",
    "for result in results:\n",
    "    output += result\n",
    "    if '\\n' in result:\n",
    "        display('%s' % output)\n",
    "        output = ''"
   ]
  },
  {
   "cell_type": "markdown",
   "id": "ffa8008e-8c1e-4853-a581-fadf43047f32",
   "metadata": {},
   "source": [
    "---\n",
    "This covers the current version of the API."
   ]
  },
  {
   "cell_type": "code",
   "execution_count": null,
   "id": "17c7a647-5db9-44fe-b07b-ed7d51eda5bc",
   "metadata": {},
   "outputs": [],
   "source": []
  }
 ],
 "metadata": {
  "kernelspec": {
   "display_name": "Python 3 (ipykernel)",
   "language": "python",
   "name": "python3"
  },
  "language_info": {
   "codemirror_mode": {
    "name": "ipython",
    "version": 3
   },
   "file_extension": ".py",
   "mimetype": "text/x-python",
   "name": "python",
   "nbconvert_exporter": "python",
   "pygments_lexer": "ipython3",
   "version": "3.11.8"
  }
 },
 "nbformat": 4,
 "nbformat_minor": 5
}
